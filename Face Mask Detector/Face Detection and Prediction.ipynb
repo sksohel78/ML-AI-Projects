{
 "cells": [
  {
   "cell_type": "code",
   "execution_count": 1,
   "metadata": {},
   "outputs": [],
   "source": [
    "import numpy as np\n",
    "import pandas as pd\n",
    "import matplotlib.pyplot as plt\n",
    "from tensorflow.keras.applications.vgg16 import preprocess_input\n",
    "from tensorflow.keras.preprocessing.image import img_to_array\n",
    "from tensorflow.keras.models import load_model\n",
    "import cv2"
   ]
  },
  {
   "cell_type": "code",
   "execution_count": 2,
   "metadata": {},
   "outputs": [],
   "source": [
    "def detect_and_predict_mask(frame, facenet, model):\n",
    "    (h, w) = frame.shape[:2]\n",
    "    blob = cv2.dnn.blobFromImage(frame, 1.0, (100, 100), (104, 177, 123))\n",
    "    facenet.setInput(blob)\n",
    "    detections = facenet.forward()\n",
    "    faces = []\n",
    "    locs = []\n",
    "    preds = []\n",
    "    \n",
    "    for i in range(0, detections.shape[2]):\n",
    "        confidence = detections[0, 0, i, 2]\n",
    "        \n",
    "        if confidence > 0.5:\n",
    "            box = detections[0, 0, i, 3:7] * np.array([w, h, w, h])\n",
    "            (startx, starty, endx, endy) = box.astype('int')\n",
    "            (startx, starty) = (max(0, startx), max(0, starty))\n",
    "            (endx, endy) = (min(w-1, endx), min(h-1, endy))\n",
    "            \n",
    "            face = frame[starty:endy, startx:endx]\n",
    "            face = cv2.cvtColor(face, cv2.COLOR_BGR2RGB)\n",
    "            face = cv2.resize(face, (100, 100))\n",
    "            face = img_to_array(face)\n",
    "            face = preprocess_input(face)\n",
    "            \n",
    "            faces.append(face)\n",
    "            locs.append((startx, starty, endx, endy))\n",
    "    \n",
    "    if len(faces)>0:\n",
    "        \n",
    "        faces = np.array(faces, dtype='float32')\n",
    "        preds = model.predict(faces, batch_size = 10)\n",
    "    \n",
    "    return (locs, preds)"
   ]
  },
  {
   "cell_type": "code",
   "execution_count": 3,
   "metadata": {},
   "outputs": [],
   "source": [
    "prototxtpath = 'face_detector/deploy.prototxt'\n",
    "wieghtspath = 'face_detector/res10_300x300_ssd_iter_140000.caffemodel'"
   ]
  },
  {
   "cell_type": "code",
   "execution_count": 4,
   "metadata": {},
   "outputs": [],
   "source": [
    "facenet = cv2.dnn.readNet(prototxtpath, wieghtspath)\n",
    "\n",
    "model = load_model('My_model')"
   ]
  },
  {
   "cell_type": "code",
   "execution_count": 5,
   "metadata": {},
   "outputs": [],
   "source": [
    "source = cv2.VideoCapture(0)"
   ]
  },
  {
   "cell_type": "code",
   "execution_count": 6,
   "metadata": {},
   "outputs": [],
   "source": [
    "while True:\n",
    "    ret, frame = source.read()\n",
    "    \n",
    "    (locs, preds) = detect_and_predict_mask(frame, facenet, model)\n",
    "    \n",
    "    for (box, pred) in zip(locs, preds):\n",
    "        (startx, starty, endx, endy) = box\n",
    "        (mask, withoutmask) = pred\n",
    "        \n",
    "        label = 'Mask' if mask>withoutmask else 'No Mask'\n",
    "        color = (0, 255, 0) if label == 'Mask' else (0, 0, 255)\n",
    "        \n",
    "        label = '{}: {:.2f}%'.format(label, max(mask, withoutmask)*100)\n",
    "        \n",
    "        cv2.putText(frame, label, (startx, starty-10),cv2.FONT_HERSHEY_SIMPLEX, 0.45, color, 2)\n",
    "        cv2.rectangle(frame, (startx, starty), (endx, endy), color, 2)\n",
    "        \n",
    "    cv2.imshow('Frame', frame)\n",
    "    key = cv2.waitKey(1) & 0xFF\n",
    "    \n",
    "    if key == ord('q'):\n",
    "        break\n",
    "\n",
    "cv2.destroyAllWindows()\n",
    "source.release()"
   ]
  },
  {
   "cell_type": "code",
   "execution_count": null,
   "metadata": {},
   "outputs": [],
   "source": []
  }
 ],
 "metadata": {
  "kernelspec": {
   "display_name": "Python 3",
   "language": "python",
   "name": "python3"
  },
  "language_info": {
   "codemirror_mode": {
    "name": "ipython",
    "version": 3
   },
   "file_extension": ".py",
   "mimetype": "text/x-python",
   "name": "python",
   "nbconvert_exporter": "python",
   "pygments_lexer": "ipython3",
   "version": "3.7.7"
  }
 },
 "nbformat": 4,
 "nbformat_minor": 4
}
